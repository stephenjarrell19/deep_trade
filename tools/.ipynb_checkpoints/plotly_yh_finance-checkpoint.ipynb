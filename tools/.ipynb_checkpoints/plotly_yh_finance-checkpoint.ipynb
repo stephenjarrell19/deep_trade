{
 "cells": [
  {
   "cell_type": "markdown",
   "metadata": {},
   "source": [
    "# Quick Yahoo Finance API Check"
   ]
  },
  {
   "cell_type": "code",
   "execution_count": 1,
   "metadata": {},
   "outputs": [
    {
     "name": "stderr",
     "output_type": "stream",
     "text": [
      "C:\\Users\\Stephen\\AppData\\Local\\Continuum\\anaconda3\\lib\\site-packages\\numpy\\_distributor_init.py:32: UserWarning: loaded more than 1 DLL from .libs:\n",
      "C:\\Users\\Stephen\\AppData\\Local\\Continuum\\anaconda3\\lib\\site-packages\\numpy\\.libs\\libopenblas.JPIJNSWNNAN3CE6LLI5FWSPHUT2VXMTH.gfortran-win_amd64.dll\n",
      "C:\\Users\\Stephen\\AppData\\Local\\Continuum\\anaconda3\\lib\\site-packages\\numpy\\.libs\\libopenblas.PYQHXLVVQ7VESDPUVUADXEVJOBGHJPAY.gfortran-win_amd64.dll\n",
      "  stacklevel=1)\n"
     ]
    }
   ],
   "source": [
    "import pandas as pd\n",
    "import numpy as np\n",
    "\n",
    "%matplotlib inline\n",
    "\n",
    "import warnings\n",
    "warnings.filterwarnings('ignore')\n",
    "\n",
    "\n",
    "#!pip install yfinance --upgrade --no-cache-dir\n",
    "import yfinance as yf"
   ]
  },
  {
   "cell_type": "code",
   "execution_count": 2,
   "metadata": {},
   "outputs": [],
   "source": [
    "# List of Tech Stocks\n",
    "list_of_stocks = [\"qqq\", \"meta\"]\n",
    "\n",
    "def get_data(list_of_stocks):\n",
    "    obj = yf.download(list_of_stocks)\n",
    "    return obj"
   ]
  },
  {
   "cell_type": "code",
   "execution_count": 3,
   "metadata": {},
   "outputs": [
    {
     "name": "stdout",
     "output_type": "stream",
     "text": [
      "[*********************100%***********************]  2 of 2 completed\n"
     ]
    },
    {
     "data": {
      "text/html": [
       "<div>\n",
       "<style scoped>\n",
       "    .dataframe tbody tr th:only-of-type {\n",
       "        vertical-align: middle;\n",
       "    }\n",
       "\n",
       "    .dataframe tbody tr th {\n",
       "        vertical-align: top;\n",
       "    }\n",
       "\n",
       "    .dataframe thead tr th {\n",
       "        text-align: left;\n",
       "    }\n",
       "\n",
       "    .dataframe thead tr:last-of-type th {\n",
       "        text-align: right;\n",
       "    }\n",
       "</style>\n",
       "<table border=\"1\" class=\"dataframe\">\n",
       "  <thead>\n",
       "    <tr>\n",
       "      <th></th>\n",
       "      <th colspan=\"2\" halign=\"left\">Adj Close</th>\n",
       "      <th colspan=\"2\" halign=\"left\">Close</th>\n",
       "      <th colspan=\"2\" halign=\"left\">High</th>\n",
       "      <th colspan=\"2\" halign=\"left\">Low</th>\n",
       "      <th colspan=\"2\" halign=\"left\">Open</th>\n",
       "      <th colspan=\"2\" halign=\"left\">Volume</th>\n",
       "    </tr>\n",
       "    <tr>\n",
       "      <th></th>\n",
       "      <th>META</th>\n",
       "      <th>QQQ</th>\n",
       "      <th>META</th>\n",
       "      <th>QQQ</th>\n",
       "      <th>META</th>\n",
       "      <th>QQQ</th>\n",
       "      <th>META</th>\n",
       "      <th>QQQ</th>\n",
       "      <th>META</th>\n",
       "      <th>QQQ</th>\n",
       "      <th>META</th>\n",
       "      <th>QQQ</th>\n",
       "    </tr>\n",
       "    <tr>\n",
       "      <th>Date</th>\n",
       "      <th></th>\n",
       "      <th></th>\n",
       "      <th></th>\n",
       "      <th></th>\n",
       "      <th></th>\n",
       "      <th></th>\n",
       "      <th></th>\n",
       "      <th></th>\n",
       "      <th></th>\n",
       "      <th></th>\n",
       "      <th></th>\n",
       "      <th></th>\n",
       "    </tr>\n",
       "  </thead>\n",
       "  <tbody>\n",
       "    <tr>\n",
       "      <th>1999-03-10</th>\n",
       "      <td>NaN</td>\n",
       "      <td>44.090450</td>\n",
       "      <td>NaN</td>\n",
       "      <td>51.0625</td>\n",
       "      <td>NaN</td>\n",
       "      <td>51.156250</td>\n",
       "      <td>NaN</td>\n",
       "      <td>50.28125</td>\n",
       "      <td>NaN</td>\n",
       "      <td>51.12500</td>\n",
       "      <td>NaN</td>\n",
       "      <td>5232000</td>\n",
       "    </tr>\n",
       "    <tr>\n",
       "      <th>1999-03-11</th>\n",
       "      <td>NaN</td>\n",
       "      <td>44.306328</td>\n",
       "      <td>NaN</td>\n",
       "      <td>51.3125</td>\n",
       "      <td>NaN</td>\n",
       "      <td>51.734375</td>\n",
       "      <td>NaN</td>\n",
       "      <td>50.31250</td>\n",
       "      <td>NaN</td>\n",
       "      <td>51.43750</td>\n",
       "      <td>NaN</td>\n",
       "      <td>9688600</td>\n",
       "    </tr>\n",
       "    <tr>\n",
       "      <th>1999-03-12</th>\n",
       "      <td>NaN</td>\n",
       "      <td>43.226994</td>\n",
       "      <td>NaN</td>\n",
       "      <td>50.0625</td>\n",
       "      <td>NaN</td>\n",
       "      <td>51.156250</td>\n",
       "      <td>NaN</td>\n",
       "      <td>49.65625</td>\n",
       "      <td>NaN</td>\n",
       "      <td>51.12500</td>\n",
       "      <td>NaN</td>\n",
       "      <td>8743600</td>\n",
       "    </tr>\n",
       "    <tr>\n",
       "      <th>1999-03-15</th>\n",
       "      <td>NaN</td>\n",
       "      <td>44.468231</td>\n",
       "      <td>NaN</td>\n",
       "      <td>51.5000</td>\n",
       "      <td>NaN</td>\n",
       "      <td>51.562500</td>\n",
       "      <td>NaN</td>\n",
       "      <td>49.90625</td>\n",
       "      <td>NaN</td>\n",
       "      <td>50.43750</td>\n",
       "      <td>NaN</td>\n",
       "      <td>6369000</td>\n",
       "    </tr>\n",
       "    <tr>\n",
       "      <th>1999-03-16</th>\n",
       "      <td>NaN</td>\n",
       "      <td>44.846012</td>\n",
       "      <td>NaN</td>\n",
       "      <td>51.9375</td>\n",
       "      <td>NaN</td>\n",
       "      <td>52.156250</td>\n",
       "      <td>NaN</td>\n",
       "      <td>51.15625</td>\n",
       "      <td>NaN</td>\n",
       "      <td>51.71875</td>\n",
       "      <td>NaN</td>\n",
       "      <td>4905800</td>\n",
       "    </tr>\n",
       "  </tbody>\n",
       "</table>\n",
       "</div>"
      ],
      "text/plain": [
       "           Adj Close            Close          High             Low            \\\n",
       "                META        QQQ  META      QQQ META        QQQ META       QQQ   \n",
       "Date                                                                            \n",
       "1999-03-10       NaN  44.090450   NaN  51.0625  NaN  51.156250  NaN  50.28125   \n",
       "1999-03-11       NaN  44.306328   NaN  51.3125  NaN  51.734375  NaN  50.31250   \n",
       "1999-03-12       NaN  43.226994   NaN  50.0625  NaN  51.156250  NaN  49.65625   \n",
       "1999-03-15       NaN  44.468231   NaN  51.5000  NaN  51.562500  NaN  49.90625   \n",
       "1999-03-16       NaN  44.846012   NaN  51.9375  NaN  52.156250  NaN  51.15625   \n",
       "\n",
       "           Open           Volume           \n",
       "           META       QQQ   META      QQQ  \n",
       "Date                                       \n",
       "1999-03-10  NaN  51.12500    NaN  5232000  \n",
       "1999-03-11  NaN  51.43750    NaN  9688600  \n",
       "1999-03-12  NaN  51.12500    NaN  8743600  \n",
       "1999-03-15  NaN  50.43750    NaN  6369000  \n",
       "1999-03-16  NaN  51.71875    NaN  4905800  "
      ]
     },
     "execution_count": 3,
     "metadata": {},
     "output_type": "execute_result"
    }
   ],
   "source": [
    "data = get_data(list_of_stocks)\n",
    "data.head()"
   ]
  },
  {
   "cell_type": "code",
   "execution_count": 4,
   "metadata": {},
   "outputs": [
    {
     "data": {
      "text/plain": [
       "[<matplotlib.lines.Line2D at 0x1adb4ef12b0>,\n",
       " <matplotlib.lines.Line2D at 0x1adb4de3668>]"
      ]
     },
     "execution_count": 4,
     "metadata": {},
     "output_type": "execute_result"
    },
    {
     "data": {
      "image/png": "[encoded data removed]",
      "text/plain": [
       "<Figure size 432x288 with 1 Axes>"
      ]
     },
     "metadata": {
      "needs_background": "light"
     },
     "output_type": "display_data"
    }
   ],
   "source": [
    "import matplotlib.pyplot as plt\n",
    "\n",
    "plt.title(\"GOOG & META\")\n",
    "plt.plot(data[list(data.keys())[:2]])"
   ]
  },
  {
   "cell_type": "code",
   "execution_count": null,
   "metadata": {},
   "outputs": [],
   "source": []
  }
 ],
 "metadata": {
  "kernelspec": {
   "display_name": "Python 3",
   "language": "python",
   "name": "python3"
  },
  "language_info": {
   "codemirror_mode": {
    "name": "ipython",
    "version": 3
   },
   "file_extension": ".py",
   "mimetype": "text/x-python",
   "name": "python",
   "nbconvert_exporter": "python",
   "pygments_lexer": "ipython3",
   "version": "3.7.1"
  }
 },
 "nbformat": 4,
 "nbformat_minor": 2
}
